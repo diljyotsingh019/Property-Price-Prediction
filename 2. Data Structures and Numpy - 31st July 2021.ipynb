{
 "cells": [
  {
   "cell_type": "markdown",
   "metadata": {},
   "source": [
    "# Data structures in Python"
   ]
  },
  {
   "cell_type": "markdown",
   "metadata": {},
   "source": [
    "# Numbers"
   ]
  },
  {
   "cell_type": "code",
   "execution_count": 1,
   "metadata": {},
   "outputs": [
    {
     "name": "stdout",
     "output_type": "stream",
     "text": [
      "<class 'int'>\n",
      "<class 'float'>\n",
      "<class 'complex'>\n"
     ]
    }
   ],
   "source": [
    "a=5\n",
    "print(type(a))\n",
    "a=12.5\n",
    "print(type(a))\n",
    "a=10+5j\n",
    "print(type(a))"
   ]
  },
  {
   "cell_type": "code",
   "execution_count": 2,
   "metadata": {},
   "outputs": [],
   "source": [
    "import math"
   ]
  },
  {
   "cell_type": "code",
   "execution_count": 3,
   "metadata": {
    "scrolled": false
   },
   "outputs": [
    {
     "name": "stdout",
     "output_type": "stream",
     "text": [
      "2.0\n",
      "10\n",
      "11\n",
      "8.0\n",
      "720\n",
      "3.141592653589793\n",
      "3.14\n"
     ]
    }
   ],
   "source": [
    "print(math.sqrt(4))\n",
    "print(math.floor(10.7))\n",
    "print(math.ceil(10.7))\n",
    "print(math.pow(2,3))\n",
    "print(math.factorial(6))\n",
    "#print(round(math.pi,0))\n",
    "print(math.pi)\n",
    "print(round(math.pi,2))"
   ]
  },
  {
   "cell_type": "code",
   "execution_count": 4,
   "metadata": {},
   "outputs": [
    {
     "name": "stdout",
     "output_type": "stream",
     "text": [
      "314.1592653589793\n"
     ]
    }
   ],
   "source": [
    "area_of_circle=math.pi*10*10\n",
    "print(area_of_circle)"
   ]
  },
  {
   "cell_type": "code",
   "execution_count": 5,
   "metadata": {},
   "outputs": [],
   "source": [
    "import numpy\n",
    "?numpy.sqrt"
   ]
  },
  {
   "cell_type": "markdown",
   "metadata": {},
   "source": [
    "# Strings\n"
   ]
  },
  {
   "cell_type": "code",
   "execution_count": 32,
   "metadata": {},
   "outputs": [
    {
     "name": "stdout",
     "output_type": "stream",
     "text": [
      "Hello world\n",
      "\n",
      "Python is a programming language.\n",
      "Python is interesting.\n",
      "this is it.\n"
     ]
    }
   ],
   "source": [
    "my_string = 'Hello world'\n",
    "print(my_string)\n",
    "\n",
    "print()\n",
    "\n",
    "\"\"\"\n",
    "this is \n",
    "a comment\"\"\"\n",
    "\n",
    "my_string = \"\"\"Python is a programming language.\n",
    "Python is interesting.\n",
    "this is it.\"\"\"\n",
    "print(my_string)\n"
   ]
  },
  {
   "cell_type": "code",
   "execution_count": 4,
   "metadata": {},
   "outputs": [
    {
     "name": "stdout",
     "output_type": "stream",
     "text": [
      "P\n",
      "n\n",
      "hon is \n",
      "Python is a programming l\n",
      "anguage. Python is interesting.\n",
      "Python is a programming language. Python is interesting.\n",
      "56\n",
      "n i a\n"
     ]
    }
   ],
   "source": [
    "#slicing\n",
    "my_string = \"Python is a programming language. Python is interesting.\"\n",
    "print(my_string[0])\n",
    "print(my_string[-3])\n",
    "                \n",
    "#[inclusive:exclusive]\n",
    "print(my_string[3:10])\n",
    "print(my_string[:25])\n",
    "print(my_string[25:])\n",
    "print(my_string[:])\n",
    "#print(my_string[54])\n",
    "print(len(my_string))\n",
    "print(my_string[5:8],my_string[10])"
   ]
  },
  {
   "cell_type": "code",
   "execution_count": 26,
   "metadata": {},
   "outputs": [
    {
     "data": {
      "text/plain": [
       "['Python',\n",
       " 'is',\n",
       " 'a',\n",
       " 'programming',\n",
       " 'language.',\n",
       " 'Python',\n",
       " 'is',\n",
       " 'interesting.']"
      ]
     },
     "execution_count": 26,
     "metadata": {},
     "output_type": "execute_result"
    }
   ],
   "source": [
    "my_string.split(sep=\" \")"
   ]
  },
  {
   "cell_type": "code",
   "execution_count": 12,
   "metadata": {},
   "outputs": [
    {
     "name": "stdout",
     "output_type": "stream",
     "text": [
      "Python Bs a programmNg language. Python Bs NterestNg.\n"
     ]
    }
   ],
   "source": [
    "#strings are immutable\n",
    "my_string = my_string.replace(\"i\",\"B\")\n",
    "print(my_string)"
   ]
  },
  {
   "cell_type": "code",
   "execution_count": 28,
   "metadata": {},
   "outputs": [
    {
     "data": {
      "text/plain": [
       "['P',\n",
       " 'y',\n",
       " 't',\n",
       " 'h',\n",
       " 'o',\n",
       " 'n',\n",
       " ' ',\n",
       " 'i',\n",
       " 's',\n",
       " ' ',\n",
       " 'a',\n",
       " ' ',\n",
       " 'p',\n",
       " 'r',\n",
       " 'o',\n",
       " 'g',\n",
       " 'r',\n",
       " 'a',\n",
       " 'm',\n",
       " 'm',\n",
       " 'i',\n",
       " 'n',\n",
       " 'g',\n",
       " ' ',\n",
       " 'l',\n",
       " 'a',\n",
       " 'n',\n",
       " 'g',\n",
       " 'u',\n",
       " 'a',\n",
       " 'g',\n",
       " 'e',\n",
       " '.',\n",
       " ' ',\n",
       " 'P',\n",
       " 'y',\n",
       " 't',\n",
       " 'h',\n",
       " 'o',\n",
       " 'n',\n",
       " ' ',\n",
       " 'i',\n",
       " 's',\n",
       " ' ',\n",
       " 'i',\n",
       " 'n',\n",
       " 't',\n",
       " 'e',\n",
       " 'r',\n",
       " 'e',\n",
       " 's',\n",
       " 't',\n",
       " 'i',\n",
       " 'n',\n",
       " 'g',\n",
       " '.']"
      ]
     },
     "execution_count": 28,
     "metadata": {},
     "output_type": "execute_result"
    }
   ],
   "source": [
    "list(my_string)"
   ]
  },
  {
   "cell_type": "code",
   "execution_count": 11,
   "metadata": {
    "scrolled": false
   },
   "outputs": [
    {
     "name": "stdout",
     "output_type": "stream",
     "text": [
      "Python is a programmNg language. Python is NterestNg.\n"
     ]
    }
   ],
   "source": [
    "my_string=my_string.replace(\"in\",\"N\")\n",
    "print(my_string)"
   ]
  },
  {
   "cell_type": "code",
   "execution_count": 37,
   "metadata": {},
   "outputs": [],
   "source": [
    "del my_string"
   ]
  },
  {
   "cell_type": "code",
   "execution_count": 38,
   "metadata": {},
   "outputs": [
    {
     "ename": "NameError",
     "evalue": "name 'my_string' is not defined",
     "output_type": "error",
     "traceback": [
      "\u001b[1;31m---------------------------------------------------------------------------\u001b[0m",
      "\u001b[1;31mNameError\u001b[0m                                 Traceback (most recent call last)",
      "\u001b[1;32m<ipython-input-38-3e6bd8b6259f>\u001b[0m in \u001b[0;36m<module>\u001b[1;34m\u001b[0m\n\u001b[1;32m----> 1\u001b[1;33m \u001b[0mprint\u001b[0m\u001b[1;33m(\u001b[0m\u001b[0mmy_string\u001b[0m\u001b[1;33m)\u001b[0m\u001b[1;33m\u001b[0m\u001b[1;33m\u001b[0m\u001b[0m\n\u001b[0m",
      "\u001b[1;31mNameError\u001b[0m: name 'my_string' is not defined"
     ]
    }
   ],
   "source": [
    "print(my_string)"
   ]
  },
  {
   "cell_type": "markdown",
   "metadata": {},
   "source": [
    "# Lists"
   ]
  },
  {
   "cell_type": "code",
   "execution_count": 39,
   "metadata": {},
   "outputs": [
    {
     "name": "stdout",
     "output_type": "stream",
     "text": [
      "[1, 3, 5, 4, 2]\n",
      "[1, 4.2, 'python', 4.2]\n",
      "<class 'list'>\n"
     ]
    }
   ],
   "source": [
    "# Python List\n",
    "\n",
    "mylist1=[1,3,5,4,2]\n",
    "\n",
    "mylist2 = [1, 4.2, \"python\" ,4.2]\n",
    "\n",
    "print(mylist1)\n",
    "print(mylist2)\n",
    "print(type(mylist2))"
   ]
  },
  {
   "cell_type": "code",
   "execution_count": 40,
   "metadata": {},
   "outputs": [
    {
     "name": "stdout",
     "output_type": "stream",
     "text": [
      "30\n",
      "[10, 20, 30]\n",
      "[60, 70, 80]\n",
      "30 60\n"
     ]
    }
   ],
   "source": [
    "# use of slicing operator\n",
    "a = [10,20,30,40,50,60,70,80]\n",
    "\n",
    "print(a[2])\n",
    "\n",
    "print(a[0:3])\n",
    "\n",
    "print(a[5:])\n",
    "print(a[2],a[5])\n"
   ]
  },
  {
   "cell_type": "code",
   "execution_count": 41,
   "metadata": {},
   "outputs": [
    {
     "name": "stdout",
     "output_type": "stream",
     "text": [
      "[10, 20, 30, 'abc', 50, 60, 70, 80]\n"
     ]
    }
   ],
   "source": [
    "#lists are mutable (Mutable = Can be modified i.e. add/remove/update after initialization) \n",
    "#replacing an element on the basis of index number\n",
    "a[3]=\"abc\"\n",
    "print(a)"
   ]
  },
  {
   "cell_type": "code",
   "execution_count": 99,
   "metadata": {
    "scrolled": true
   },
   "outputs": [
    {
     "name": "stdout",
     "output_type": "stream",
     "text": [
      "[1, 3, 6, 9, 'xyz', 4, 5, 6, 7, 8]\n"
     ]
    }
   ],
   "source": [
    "#appending multiple elements\n",
    "my_list=[1,3,6,9]\n",
    "\n",
    "my_new_list=[4,5,6,7,8]\n",
    "\n",
    "my_list.append(\"xyz\")\n",
    "my_list.extend(my_new_list)\n",
    "\n",
    "print(my_list)"
   ]
  },
  {
   "cell_type": "code",
   "execution_count": 100,
   "metadata": {},
   "outputs": [
    {
     "name": "stdout",
     "output_type": "stream",
     "text": [
      "[1, 3, 6, 9, 'abc', 'xyz', 4, 5, 6, 7, 8]\n"
     ]
    }
   ],
   "source": [
    "my_list.insert(4,\"abc\")\n",
    "print(my_list)"
   ]
  },
  {
   "cell_type": "code",
   "execution_count": 101,
   "metadata": {
    "scrolled": false
   },
   "outputs": [
    {
     "name": "stdout",
     "output_type": "stream",
     "text": [
      "[1, 3, 9, 'abc', 'xyz', 4, 5, 6, 7, 8]\n"
     ]
    }
   ],
   "source": [
    "my_list.remove(6)\n",
    "print(my_list)"
   ]
  },
  {
   "cell_type": "code",
   "execution_count": 45,
   "metadata": {},
   "outputs": [
    {
     "data": {
      "text/plain": [
       "[1, 3, 'abc', 'xyz', 4, 5, 6, 7, 8]"
      ]
     },
     "execution_count": 45,
     "metadata": {},
     "output_type": "execute_result"
    }
   ],
   "source": [
    "del my_list[2]\n",
    "my_list"
   ]
  },
  {
   "cell_type": "markdown",
   "metadata": {},
   "source": [
    "# Tuples"
   ]
  },
  {
   "cell_type": "code",
   "execution_count": 60,
   "metadata": {},
   "outputs": [
    {
     "name": "stdout",
     "output_type": "stream",
     "text": [
      "(5, 'python', [1, 'alex', 3], 27.9, 5)\n",
      "<class 'tuple'>\n",
      "x\n"
     ]
    }
   ],
   "source": [
    "a = (5,'python',[1,\"alex\",3], 27.9,5)\n",
    "print(a)\n",
    "print(type(a))\n",
    "print(a[2][1][3])\n"
   ]
  },
  {
   "cell_type": "code",
   "execution_count": 47,
   "metadata": {},
   "outputs": [
    {
     "name": "stdout",
     "output_type": "stream",
     "text": [
      "(1, 2, 3)\n"
     ]
    }
   ],
   "source": [
    "list1=[1,2,3]\n",
    "tuple1=tuple(list1)\n",
    "print(tuple1)"
   ]
  },
  {
   "cell_type": "code",
   "execution_count": 61,
   "metadata": {
    "scrolled": true
   },
   "outputs": [],
   "source": [
    "#tuple is immutable\n",
    "#a[2]=0\n",
    "\n",
    "del a\n"
   ]
  },
  {
   "cell_type": "markdown",
   "metadata": {
    "collapsed": true
   },
   "source": [
    "# Sets"
   ]
  },
  {
   "cell_type": "code",
   "execution_count": 7,
   "metadata": {
    "ExecuteTime": {
     "end_time": "2021-07-31T05:37:48.081875Z",
     "start_time": "2021-07-31T05:37:48.064920Z"
    },
    "scrolled": false
   },
   "outputs": [
    {
     "name": "stdout",
     "output_type": "stream",
     "text": [
      "{1, 2.0, 3, 4, 38, 'alex', 72, 10, 16}\n"
     ]
    }
   ],
   "source": [
    "my_set = {1,2.0,3,4,3,2,10,\"alex\",38,72,16}\n",
    "print(my_set)"
   ]
  },
  {
   "cell_type": "code",
   "execution_count": null,
   "metadata": {
    "scrolled": true
   },
   "outputs": [],
   "source": [
    "#my_set[3]"
   ]
  },
  {
   "cell_type": "code",
   "execution_count": 10,
   "metadata": {
    "ExecuteTime": {
     "end_time": "2021-07-31T05:38:09.416568Z",
     "start_time": "2021-07-31T05:38:09.406553Z"
    }
   },
   "outputs": [
    {
     "name": "stdout",
     "output_type": "stream",
     "text": [
      "{1, 3}\n",
      "{8, 1, 3}\n",
      "{1, 2, 3, 4, 6, 8}\n",
      "{1, 2, 3, 4, 8}\n"
     ]
    }
   ],
   "source": [
    "#Adding elements\n",
    "my_set = {1,3}\n",
    "print(my_set)\n",
    "\n",
    "my_set.add(8)\n",
    "print(my_set)\n",
    "\n",
    "my_set.update([6,8,1,4,2])\n",
    "print(my_set)\n",
    "\n",
    "#deleting elements\n",
    "my_set.remove(6)\n",
    "print(my_set)\n",
    "\n"
   ]
  },
  {
   "cell_type": "code",
   "execution_count": 57,
   "metadata": {},
   "outputs": [
    {
     "name": "stdout",
     "output_type": "stream",
     "text": [
      "{1, 3, 5, 6, 7}\n"
     ]
    }
   ],
   "source": [
    "myset = {1,3}\n",
    "myset.update((5,6,7))\n",
    "print(myset)"
   ]
  },
  {
   "cell_type": "code",
   "execution_count": 1,
   "metadata": {
    "ExecuteTime": {
     "end_time": "2021-07-31T05:40:54.545642Z",
     "start_time": "2021-07-31T05:40:54.525695Z"
    }
   },
   "outputs": [
    {
     "name": "stdout",
     "output_type": "stream",
     "text": [
      "<class 'list'>\n",
      "{1, 2, 3, 4, 5, 6, 7, 8, 9, 10}\n",
      "{1, 2, 3, 4, 5, 6, 7, 8, 9, 10}\n",
      "{4, 5}\n",
      "{4, 5}\n",
      "{1, 2, 3, 9}\n",
      "{8, 10, 6, 7}\n"
     ]
    }
   ],
   "source": [
    "#Union and intersection\n",
    "\n",
    "A = [1, 2, 3, 4, 5,9]\n",
    "B = (4, 5, 6, 7, 8,10)\n",
    "print(type(A))\n",
    "setA=set(A)\n",
    "setB=set(B)\n",
    "\n",
    "print(setA | setB)\n",
    "print(setA.union(setB))\n",
    "\n",
    "print(setA & setB)\n",
    "print(setA.intersection(setB))\n",
    "\n",
    "print(setA-setB)\n",
    "print(setB-setA)"
   ]
  },
  {
   "cell_type": "code",
   "execution_count": 103,
   "metadata": {},
   "outputs": [],
   "source": [
    "A = [1, 2, 3, 4, 5,9]\n",
    "B = (4, 5, 6, 7, 8,10)"
   ]
  },
  {
   "cell_type": "code",
   "execution_count": 105,
   "metadata": {},
   "outputs": [
    {
     "name": "stdout",
     "output_type": "stream",
     "text": [
      "{1, 2, 3, 4, 5, 9} {4, 5, 6, 7, 8, 10}\n"
     ]
    }
   ],
   "source": [
    "setA=set(A)\n",
    "setB=set(B)\n",
    "print(setA, setB)"
   ]
  },
  {
   "cell_type": "markdown",
   "metadata": {},
   "source": [
    "# Dictionaries"
   ]
  },
  {
   "cell_type": "code",
   "execution_count": 51,
   "metadata": {
    "scrolled": true
   },
   "outputs": [
    {
     "name": "stdout",
     "output_type": "stream",
     "text": [
      "{1: 'A', 'B': 2}\n",
      "{'name': ('John', 'Priya', 'Alex'), 'ID': [2, 4], 'Marks': [47, 45, 32]}\n",
      "('John', 'Priya', 'Alex')\n",
      "John 2 47\n",
      "A\n"
     ]
    },
    {
     "ename": "KeyError",
     "evalue": "0",
     "output_type": "error",
     "traceback": [
      "\u001b[1;31m---------------------------------------------------------------------------\u001b[0m",
      "\u001b[1;31mKeyError\u001b[0m                                  Traceback (most recent call last)",
      "\u001b[1;32m<ipython-input-51-775db1c892cd>\u001b[0m in \u001b[0;36m<module>\u001b[1;34m\u001b[0m\n\u001b[0;32m      8\u001b[0m \u001b[0mprint\u001b[0m\u001b[1;33m(\u001b[0m\u001b[0mmy_d2\u001b[0m\u001b[1;33m[\u001b[0m\u001b[1;34m\"name\"\u001b[0m\u001b[1;33m]\u001b[0m\u001b[1;33m[\u001b[0m\u001b[1;36m0\u001b[0m\u001b[1;33m]\u001b[0m\u001b[1;33m,\u001b[0m\u001b[0mmy_d2\u001b[0m\u001b[1;33m[\u001b[0m\u001b[1;34m\"ID\"\u001b[0m\u001b[1;33m]\u001b[0m\u001b[1;33m[\u001b[0m\u001b[1;36m0\u001b[0m\u001b[1;33m]\u001b[0m\u001b[1;33m,\u001b[0m\u001b[0mmy_d2\u001b[0m\u001b[1;33m[\u001b[0m\u001b[1;34m\"Marks\"\u001b[0m\u001b[1;33m]\u001b[0m\u001b[1;33m[\u001b[0m\u001b[1;36m0\u001b[0m\u001b[1;33m]\u001b[0m\u001b[1;33m)\u001b[0m\u001b[1;33m\u001b[0m\u001b[1;33m\u001b[0m\u001b[0m\n\u001b[0;32m      9\u001b[0m \u001b[0mprint\u001b[0m\u001b[1;33m(\u001b[0m\u001b[0mmy_d1\u001b[0m\u001b[1;33m[\u001b[0m\u001b[1;36m1\u001b[0m\u001b[1;33m]\u001b[0m\u001b[1;33m)\u001b[0m\u001b[1;33m\u001b[0m\u001b[1;33m\u001b[0m\u001b[0m\n\u001b[1;32m---> 10\u001b[1;33m \u001b[0mprint\u001b[0m\u001b[1;33m(\u001b[0m\u001b[0mmy_d2\u001b[0m\u001b[1;33m[\u001b[0m\u001b[1;36m0\u001b[0m\u001b[1;33m]\u001b[0m\u001b[1;33m)\u001b[0m\u001b[1;33m\u001b[0m\u001b[1;33m\u001b[0m\u001b[0m\n\u001b[0m",
      "\u001b[1;31mKeyError\u001b[0m: 0"
     ]
    }
   ],
   "source": [
    "# Creating a dictionary\n",
    "my_d1 = {1: 'A', \"B\": 2}\n",
    "print(my_d1)\n",
    "\n",
    "my_d2 = {\"name\": (\"John\",\"Priya\",\"Alex\"), \"ID\": [2,4], \"Marks\":[34,45,38],\"Marks\":[47,45,32]}\n",
    "print(my_d2)\n",
    "print(my_d2[\"name\"])\n",
    "print(my_d2[\"name\"][0],my_d2[\"ID\"][0],my_d2[\"Marks\"][0])\n",
    "print(my_d1[1])\n",
    "print(my_d2[0])"
   ]
  },
  {
   "cell_type": "code",
   "execution_count": 52,
   "metadata": {
    "scrolled": true
   },
   "outputs": [
    {
     "name": "stdout",
     "output_type": "stream",
     "text": [
      "{'Name': 'Priya', 'age': [12, 28, 30]}\n",
      "{'Name': 'Priya', 'age': [12, 28, 30], 'address': ['Mumbai', 'Pune']}\n"
     ]
    }
   ],
   "source": [
    "my_d={\"Name\":\"Priya\",\"age\":[12,27,30]}\n",
    "my_d['age'][1] = 28\n",
    "print(my_d)\n",
    "\n",
    "my_d['address'] = ['Mumbai','Pune']\n",
    "print(my_d)"
   ]
  },
  {
   "cell_type": "code",
   "execution_count": 53,
   "metadata": {},
   "outputs": [
    {
     "name": "stdout",
     "output_type": "stream",
     "text": [
      "{'Name': 'Priya', 'age': [12, 30], 'address': ['Mumbai', 'Pune']}\n"
     ]
    }
   ],
   "source": [
    "del my_d[\"age\"][1]\n",
    "print(my_d)"
   ]
  },
  {
   "cell_type": "code",
   "execution_count": 54,
   "metadata": {},
   "outputs": [
    {
     "data": {
      "text/plain": [
       "dict_values(['Priya', [12, 30], ['Mumbai', 'Pune']])"
      ]
     },
     "execution_count": 54,
     "metadata": {},
     "output_type": "execute_result"
    }
   ],
   "source": [
    "my_d.values()"
   ]
  },
  {
   "cell_type": "code",
   "execution_count": 55,
   "metadata": {},
   "outputs": [
    {
     "data": {
      "text/plain": [
       "dict_keys(['Name', 'age', 'address'])"
      ]
     },
     "execution_count": 55,
     "metadata": {},
     "output_type": "execute_result"
    }
   ],
   "source": [
    "my_d.keys()"
   ]
  },
  {
   "cell_type": "code",
   "execution_count": null,
   "metadata": {},
   "outputs": [],
   "source": []
  },
  {
   "cell_type": "code",
   "execution_count": null,
   "metadata": {},
   "outputs": [],
   "source": []
  },
  {
   "cell_type": "code",
   "execution_count": 23,
   "metadata": {},
   "outputs": [
    {
     "data": {
      "text/plain": [
       "array({'A': 1, 'B': 2, 'C': 3}, dtype=object)"
      ]
     },
     "execution_count": 23,
     "metadata": {},
     "output_type": "execute_result"
    }
   ],
   "source": [
    "import numpy as np\n",
    "array_t= np.array({\"A\":1,\"B\":2,\"C\":3})\n",
    "array_t"
   ]
  },
  {
   "cell_type": "markdown",
   "metadata": {},
   "source": [
    "# NumPy"
   ]
  },
  {
   "cell_type": "markdown",
   "metadata": {},
   "source": [
    "## Introduction\n",
    "\n",
    "- NumPy is a general-purpose array-processing package\n",
    "- Travis Oliphant First Released in 1995 (Released as __Numeric__; Changed to NumPy in 2006). It is written in Python and C\n",
    "- NumPy is cross-platform and BSD-licensed. Often used with packages such as Matplotlib (plotting library) and SciPy (Scientific Python). Sometimes it is seen as an alternative to MATLAB. The term ‘Numpy’ is a portmanteau of the words ‘NUMerical’ and ‘PYthon\n",
    "- It is a library that allows end-users to create **high-performance multidimensional array objects** and manipulate these arrays (objects)\n",
    "- NumPy provides a gamut of high-level functions for mathematical and logical operations, Fourier transforms, array shape manipulations, linear algebra operations, random number generation, etc."
   ]
  },
  {
   "cell_type": "markdown",
   "metadata": {},
   "source": [
    "## Numpy Installation\n",
    "\n",
    "Once you have installed `pip`, i.e., the default python package manager; installing numpy is straightforward.\n",
    "\n",
    "`pip install numpy`"
   ]
  },
  {
   "cell_type": "markdown",
   "metadata": {},
   "source": [
    "## Numpy Import\n",
    "\n",
    "Conventionally, numpy is imported as `np` as shown below"
   ]
  },
  {
   "cell_type": "code",
   "execution_count": 24,
   "metadata": {
    "ExecuteTime": {
     "end_time": "2021-07-31T08:04:40.068512Z",
     "start_time": "2021-07-31T08:04:40.058514Z"
    }
   },
   "outputs": [
    {
     "name": "stdout",
     "output_type": "stream",
     "text": [
      "1.19.1\n"
     ]
    }
   ],
   "source": [
    "import numpy as np\n",
    "print(np.__version__)    # Check the numpy version"
   ]
  },
  {
   "cell_type": "markdown",
   "metadata": {},
   "source": [
    "## Basic Usage"
   ]
  },
  {
   "cell_type": "code",
   "execution_count": 25,
   "metadata": {
    "ExecuteTime": {
     "end_time": "2021-07-31T08:04:40.830739Z",
     "start_time": "2021-07-31T08:04:40.820767Z"
    }
   },
   "outputs": [
    {
     "name": "stdout",
     "output_type": "stream",
     "text": [
      "[[1. 1. 1.]\n",
      " [1. 1. 1.]\n",
      " [1. 1. 1.]]\n"
     ]
    },
    {
     "data": {
      "text/plain": [
       "dtype('float64')"
      ]
     },
     "execution_count": 25,
     "metadata": {},
     "output_type": "execute_result"
    }
   ],
   "source": [
    "# Create a 3 x 3 array, with all elements initialized to 1. Default data type for array is float.\n",
    "b = np.ones((3, 3))\n",
    "print(b)\n",
    "type(b)    # print datatype of b\n",
    "b.dtype    # print datatype of elements in b"
   ]
  },
  {
   "cell_type": "code",
   "execution_count": 26,
   "metadata": {
    "ExecuteTime": {
     "end_time": "2021-07-31T08:04:41.177789Z",
     "start_time": "2021-07-31T08:04:41.171805Z"
    }
   },
   "outputs": [
    {
     "name": "stdout",
     "output_type": "stream",
     "text": [
      "[[1 1 1]\n",
      " [1 1 1]\n",
      " [1 1 1]]\n"
     ]
    },
    {
     "data": {
      "text/plain": [
       "dtype('int32')"
      ]
     },
     "execution_count": 26,
     "metadata": {},
     "output_type": "execute_result"
    }
   ],
   "source": [
    "# Modify the data type of array elements\n",
    "c = np.ones((3, 3), dtype=int)\n",
    "print(c)\n",
    "type(c)\n",
    "c.dtype"
   ]
  },
  {
   "cell_type": "code",
   "execution_count": 27,
   "metadata": {
    "ExecuteTime": {
     "end_time": "2021-07-31T08:04:42.621730Z",
     "start_time": "2021-07-31T08:04:42.611731Z"
    }
   },
   "outputs": [
    {
     "data": {
      "text/plain": [
       "dtype('complex128')"
      ]
     },
     "execution_count": 27,
     "metadata": {},
     "output_type": "execute_result"
    }
   ],
   "source": [
    "d = np.array([11 + 12j, 13 + 14j, 15 + 16j])    # numpy array with complex data type\n",
    "d.dtype"
   ]
  },
  {
   "cell_type": "code",
   "execution_count": 28,
   "metadata": {
    "ExecuteTime": {
     "end_time": "2021-07-31T08:04:43.160849Z",
     "start_time": "2021-07-31T08:04:43.155862Z"
    }
   },
   "outputs": [
    {
     "data": {
      "text/plain": [
       "dtype('bool')"
      ]
     },
     "execution_count": 28,
     "metadata": {},
     "output_type": "execute_result"
    }
   ],
   "source": [
    "e = np.array([False, True, True, False, False, True])    # numpy array with boolean data type \n",
    "e.dtype"
   ]
  },
  {
   "cell_type": "code",
   "execution_count": 29,
   "metadata": {
    "ExecuteTime": {
     "end_time": "2021-07-31T08:04:44.294205Z",
     "start_time": "2021-07-31T08:04:44.289219Z"
    }
   },
   "outputs": [
    {
     "data": {
      "text/plain": [
       "dtype('<U7')"
      ]
     },
     "execution_count": 29,
     "metadata": {},
     "output_type": "execute_result"
    }
   ],
   "source": [
    "f = np.array(['Welcome', 'To', 'Numpy'])\n",
    "f.dtype    # Unicode string of 7 characters"
   ]
  },
  {
   "cell_type": "code",
   "execution_count": 30,
   "metadata": {
    "ExecuteTime": {
     "end_time": "2021-07-31T08:04:57.434203Z",
     "start_time": "2021-07-31T08:04:57.421153Z"
    }
   },
   "outputs": [
    {
     "data": {
      "text/plain": [
       "3"
      ]
     },
     "execution_count": 30,
     "metadata": {},
     "output_type": "execute_result"
    }
   ],
   "source": [
    "len(f)    # get the length of the array"
   ]
  },
  {
   "cell_type": "code",
   "execution_count": 33,
   "metadata": {
    "ExecuteTime": {
     "end_time": "2021-07-31T08:05:00.386666Z",
     "start_time": "2021-07-31T08:05:00.368715Z"
    }
   },
   "outputs": [
    {
     "name": "stdout",
     "output_type": "stream",
     "text": [
      "[0 1 2 3 4]\n"
     ]
    },
    {
     "data": {
      "text/plain": [
       "array([10,  9,  8,  7,  6,  5,  4,  3])"
      ]
     },
     "execution_count": 33,
     "metadata": {},
     "output_type": "execute_result"
    }
   ],
   "source": [
    "# Shortcut to create an array of numbers\n",
    "ar = np.arange(5)\n",
    "print(ar)\n",
    "ar = np.arange(10,2,-1)\n",
    "ar"
   ]
  },
  {
   "cell_type": "code",
   "execution_count": 40,
   "metadata": {
    "ExecuteTime": {
     "end_time": "2021-07-31T08:07:28.674115Z",
     "start_time": "2021-07-31T08:07:28.665166Z"
    }
   },
   "outputs": [
    {
     "data": {
      "text/plain": [
       "(9, 7, 3)"
      ]
     },
     "execution_count": 40,
     "metadata": {},
     "output_type": "execute_result"
    }
   ],
   "source": [
    "# Indexing on 1-D array - This is similar to Python lists\n",
    "ar[1], ar[3], ar[-1]"
   ]
  },
  {
   "cell_type": "code",
   "execution_count": 41,
   "metadata": {
    "ExecuteTime": {
     "end_time": "2021-07-31T08:07:54.563075Z",
     "start_time": "2021-07-31T08:07:54.552105Z"
    }
   },
   "outputs": [
    {
     "name": "stdout",
     "output_type": "stream",
     "text": [
      "[10 11 12 13]\n",
      "<class 'numpy.ndarray'>\n",
      "2329053741184\n",
      "2329053741184\n",
      "20\n"
     ]
    }
   ],
   "source": [
    "# Arrays are assigned by reference\n",
    "\n",
    "a = np.array([10, 11, 12, 13]) # create array\n",
    "print(a)       # print a's value\n",
    "print(type(a)) # type of variable a \n",
    "print(id(a))\n",
    "\n",
    "b = a    # reference assignment\n",
    "print(id(b))\n",
    "b[0] = 20\n",
    "print(a[0])"
   ]
  },
  {
   "cell_type": "code",
   "execution_count": 42,
   "metadata": {},
   "outputs": [
    {
     "name": "stdout",
     "output_type": "stream",
     "text": [
      "[10 11 12 13]\n",
      "<class 'numpy.ndarray'>\n",
      "2329053732496\n",
      "2329053730576\n",
      "10\n"
     ]
    }
   ],
   "source": [
    "a = np.array([10, 11, 12, 13]) # create array\n",
    "print(a)       # print a's value\n",
    "print(type(a)) # type of variable a \n",
    "print(id(a))\n",
    "\n",
    "b = a.copy()    #  assignment\n",
    "print(id(b))\n",
    "b[0] = 20\n",
    "print(a[0])"
   ]
  },
  {
   "cell_type": "code",
   "execution_count": null,
   "metadata": {},
   "outputs": [],
   "source": []
  },
  {
   "cell_type": "code",
   "execution_count": 39,
   "metadata": {
    "ExecuteTime": {
     "end_time": "2021-07-31T06:08:52.942150Z",
     "start_time": "2021-07-31T06:08:52.934171Z"
    },
    "scrolled": true
   },
   "outputs": [
    {
     "name": "stdout",
     "output_type": "stream",
     "text": [
      "[[1 2 3]\n",
      " [4 5 6]\n",
      " [7 8 9]]\n",
      "2\n",
      "(3, 3)\n"
     ]
    }
   ],
   "source": [
    "a=np.array([(1,2,3),(4,5,6),(7,8,9)])\n",
    "print(a)\n",
    "print(a.ndim)\n",
    "print(a.shape)"
   ]
  },
  {
   "cell_type": "code",
   "execution_count": 38,
   "metadata": {
    "ExecuteTime": {
     "end_time": "2021-07-31T06:09:03.758042Z",
     "start_time": "2021-07-31T06:09:03.749065Z"
    }
   },
   "outputs": [
    {
     "name": "stdout",
     "output_type": "stream",
     "text": [
      "[[[1 2 3]\n",
      "  [4 5 6]\n",
      "  [7 8 9]]\n",
      "\n",
      " [[1 2 3]\n",
      "  [4 5 6]\n",
      "  [7 8 9]]]\n",
      "3\n",
      "(2, 3, 3)\n"
     ]
    }
   ],
   "source": [
    "a=np.array([((1,2,3),(4,5,6),(7,8,9)),((1,2,3),(4,5,6),(7,8,9))])\n",
    "print(a)\n",
    "print(a.ndim)\n",
    "print(a.shape)"
   ]
  },
  {
   "cell_type": "code",
   "execution_count": null,
   "metadata": {},
   "outputs": [],
   "source": []
  },
  {
   "cell_type": "markdown",
   "metadata": {},
   "source": [
    "## Indexing and slicing\n",
    "\n",
    "Indexes are tuples of numbers"
   ]
  },
  {
   "cell_type": "code",
   "execution_count": 48,
   "metadata": {
    "ExecuteTime": {
     "end_time": "2021-07-31T08:09:45.023249Z",
     "start_time": "2021-07-31T08:09:45.005320Z"
    }
   },
   "outputs": [
    {
     "name": "stdout",
     "output_type": "stream",
     "text": [
      "[[0 0 0]\n",
      " [0 1 0]\n",
      " [0 0 2]]\n",
      "1\n"
     ]
    },
    {
     "data": {
      "text/plain": [
       "2"
      ]
     },
     "execution_count": 48,
     "metadata": {},
     "output_type": "execute_result"
    }
   ],
   "source": [
    "a = np.diag(np.arange(3))   # create a 3 by 3 array with diagonal elements set to 0, 1, 2\n",
    "print(a)\n",
    "print(a[1, 1])\n",
    "# Indexing starts with 0. Here we are slicing one element in the second row and second column. We used a tuple 1, 1\n",
    "a[2][2]"
   ]
  },
  {
   "cell_type": "code",
   "execution_count": 49,
   "metadata": {
    "ExecuteTime": {
     "end_time": "2021-07-31T08:09:45.405650Z",
     "start_time": "2021-07-31T08:09:45.400664Z"
    }
   },
   "outputs": [
    {
     "data": {
      "text/plain": [
       "array([[ 0,  0,  0],\n",
       "       [ 0,  1,  0],\n",
       "       [ 0, 10,  2]])"
      ]
     },
     "execution_count": 49,
     "metadata": {},
     "output_type": "execute_result"
    }
   ],
   "source": [
    "a[2, 1] = 10 # Update array element\n",
    "a"
   ]
  },
  {
   "cell_type": "code",
   "execution_count": 50,
   "metadata": {
    "ExecuteTime": {
     "end_time": "2021-07-31T08:09:45.690611Z",
     "start_time": "2021-07-31T08:09:45.687554Z"
    }
   },
   "outputs": [
    {
     "name": "stdout",
     "output_type": "stream",
     "text": [
      "[[ 0  1]\n",
      " [ 0 10]]\n"
     ]
    }
   ],
   "source": [
    "print(a[1:, 0:2])  # We can use slicing concepts for all the dimensions!"
   ]
  },
  {
   "cell_type": "code",
   "execution_count": 51,
   "metadata": {
    "ExecuteTime": {
     "end_time": "2021-07-31T08:09:45.960106Z",
     "start_time": "2021-07-31T08:09:45.950133Z"
    }
   },
   "outputs": [
    {
     "name": "stdout",
     "output_type": "stream",
     "text": [
      "[0 1 2 3 4 5 6 7 8 9]\n"
     ]
    },
    {
     "data": {
      "text/plain": [
       "array([0, 1, 2, 3])"
      ]
     },
     "execution_count": 51,
     "metadata": {},
     "output_type": "execute_result"
    }
   ],
   "source": [
    "ar = np.arange(10)\n",
    "print(ar)\n",
    "ar[:4]    # Slice, starting from zero and ending at three"
   ]
  },
  {
   "cell_type": "code",
   "execution_count": 52,
   "metadata": {
    "ExecuteTime": {
     "end_time": "2021-07-31T08:09:46.243451Z",
     "start_time": "2021-07-31T08:09:46.229491Z"
    }
   },
   "outputs": [
    {
     "data": {
      "text/plain": [
       "array([0, 2, 4, 6, 8])"
      ]
     },
     "execution_count": 52,
     "metadata": {},
     "output_type": "execute_result"
    }
   ],
   "source": [
    "ar[::2]    # Slice every second element, starting from 0"
   ]
  },
  {
   "cell_type": "markdown",
   "metadata": {},
   "source": [
    "## Transpose"
   ]
  },
  {
   "cell_type": "code",
   "execution_count": 59,
   "metadata": {
    "ExecuteTime": {
     "end_time": "2021-07-31T08:09:53.086138Z",
     "start_time": "2021-07-31T08:09:53.082105Z"
    }
   },
   "outputs": [
    {
     "name": "stdout",
     "output_type": "stream",
     "text": [
      "Help on function transpose in module numpy:\n",
      "\n",
      "transpose(a, axes=None)\n",
      "    Reverse or permute the axes of an array; returns the modified array.\n",
      "    \n",
      "    For an array a with two axes, transpose(a) gives the matrix transpose.\n",
      "    \n",
      "    Parameters\n",
      "    ----------\n",
      "    a : array_like\n",
      "        Input array.\n",
      "    axes : tuple or list of ints, optional\n",
      "        If specified, it must be a tuple or list which contains a permutation of\n",
      "        [0,1,..,N-1] where N is the number of axes of a.  The i'th axis of the\n",
      "        returned array will correspond to the axis numbered ``axes[i]`` of the\n",
      "        input.  If not specified, defaults to ``range(a.ndim)[::-1]``, which\n",
      "        reverses the order of the axes.\n",
      "    \n",
      "    Returns\n",
      "    -------\n",
      "    p : ndarray\n",
      "        `a` with its axes permuted.  A view is returned whenever\n",
      "        possible.\n",
      "    \n",
      "    See Also\n",
      "    --------\n",
      "    moveaxis\n",
      "    argsort\n",
      "    \n",
      "    Notes\n",
      "    -----\n",
      "    Use `transpose(a, argsort(axes))` to invert the transposition of tensors\n",
      "    when using the `axes` keyword argument.\n",
      "    \n",
      "    Transposing a 1-D array returns an unchanged view of the original array.\n",
      "    \n",
      "    Examples\n",
      "    --------\n",
      "    >>> x = np.arange(4).reshape((2,2))\n",
      "    >>> x\n",
      "    array([[0, 1],\n",
      "           [2, 3]])\n",
      "    \n",
      "    >>> np.transpose(x)\n",
      "    array([[0, 2],\n",
      "           [1, 3]])\n",
      "    \n",
      "    >>> x = np.ones((1, 2, 3))\n",
      "    >>> np.transpose(x, (1, 0, 2)).shape\n",
      "    (2, 1, 3)\n",
      "\n"
     ]
    }
   ],
   "source": [
    "import numpy as np\n",
    "help(np.transpose)"
   ]
  },
  {
   "cell_type": "code",
   "execution_count": 53,
   "metadata": {
    "ExecuteTime": {
     "end_time": "2021-07-31T08:09:53.465055Z",
     "start_time": "2021-07-31T08:09:53.449098Z"
    }
   },
   "outputs": [
    {
     "name": "stdout",
     "output_type": "stream",
     "text": [
      "Array shape: (2, 3)\n",
      "[[1 2 3]\n",
      " [4 5 6]]\n",
      "Transpose array shape: (3, 2)\n",
      "[[1 4]\n",
      " [2 5]\n",
      " [3 6]]\n"
     ]
    }
   ],
   "source": [
    "arr = np.array([[1, 2, 3], [4, 5, 6]])\n",
    "print(\"Array shape:\", arr.shape)\n",
    "print(arr)\n",
    "arr_transp = np.transpose(arr)\n",
    "print(\"Transpose array shape:\", arr_transp.shape)\n",
    "print(arr_transp)\n",
    "# + np.transpose([np.arange(0, 51, 10)])"
   ]
  },
  {
   "cell_type": "markdown",
   "metadata": {},
   "source": [
    "## Updating Array Values"
   ]
  },
  {
   "cell_type": "code",
   "execution_count": 54,
   "metadata": {
    "ExecuteTime": {
     "end_time": "2021-07-31T08:09:54.612949Z",
     "start_time": "2021-07-31T08:09:54.595995Z"
    }
   },
   "outputs": [
    {
     "name": "stdout",
     "output_type": "stream",
     "text": [
      "[[1 2 3]\n",
      " [4 2 6]]\n",
      "[[1 4]\n",
      " [2 2]\n",
      " [3 6]]\n"
     ]
    }
   ],
   "source": [
    "arr[1][1] = 2\n",
    "print(arr)    # value 5 is updated by 2\n",
    "\n",
    "arr_transp[1, 1] = 2  # value 5 updated by 2\n",
    "print(arr_transp)"
   ]
  },
  {
   "cell_type": "markdown",
   "metadata": {},
   "source": [
    "## Total Number of Elements in the Array"
   ]
  },
  {
   "cell_type": "code",
   "execution_count": 55,
   "metadata": {
    "ExecuteTime": {
     "end_time": "2021-07-31T08:09:56.481452Z",
     "start_time": "2021-07-31T08:09:56.465494Z"
    }
   },
   "outputs": [
    {
     "name": "stdout",
     "output_type": "stream",
     "text": [
      "Help on function size in module numpy:\n",
      "\n",
      "size(a, axis=None)\n",
      "    Return the number of elements along a given axis.\n",
      "    \n",
      "    Parameters\n",
      "    ----------\n",
      "    a : array_like\n",
      "        Input data.\n",
      "    axis : int, optional\n",
      "        Axis along which the elements are counted.  By default, give\n",
      "        the total number of elements.\n",
      "    \n",
      "    Returns\n",
      "    -------\n",
      "    element_count : int\n",
      "        Number of elements along the specified axis.\n",
      "    \n",
      "    See Also\n",
      "    --------\n",
      "    shape : dimensions of array\n",
      "    ndarray.shape : dimensions of array\n",
      "    ndarray.size : number of elements in array\n",
      "    \n",
      "    Examples\n",
      "    --------\n",
      "    >>> a = np.array([[1,2,3],[4,5,6]])\n",
      "    >>> np.size(a)\n",
      "    6\n",
      "    >>> np.size(a,1)\n",
      "    3\n",
      "    >>> np.size(a,0)\n",
      "    2\n",
      "\n"
     ]
    }
   ],
   "source": [
    "import numpy as np \n",
    "help(np.size)"
   ]
  },
  {
   "cell_type": "code",
   "execution_count": 56,
   "metadata": {
    "ExecuteTime": {
     "end_time": "2021-07-31T08:09:58.038644Z",
     "start_time": "2021-07-31T08:09:58.024682Z"
    }
   },
   "outputs": [
    {
     "data": {
      "text/plain": [
       "6"
      ]
     },
     "execution_count": 56,
     "metadata": {},
     "output_type": "execute_result"
    }
   ],
   "source": [
    "arr.size "
   ]
  },
  {
   "cell_type": "markdown",
   "metadata": {},
   "source": [
    "## Array of Random Numbers"
   ]
  },
  {
   "cell_type": "code",
   "execution_count": 58,
   "metadata": {
    "ExecuteTime": {
     "end_time": "2021-07-31T08:10:00.649974Z",
     "start_time": "2021-07-31T08:10:00.633020Z"
    }
   },
   "outputs": [
    {
     "name": "stdout",
     "output_type": "stream",
     "text": [
      "Help on built-in function random:\n",
      "\n",
      "random(...) method of numpy.random.mtrand.RandomState instance\n",
      "    random(size=None)\n",
      "    \n",
      "    Return random floats in the half-open interval [0.0, 1.0). Alias for\n",
      "    `random_sample` to ease forward-porting to the new random API.\n",
      "\n"
     ]
    }
   ],
   "source": [
    "import numpy as np\n",
    "help(np.random.random)"
   ]
  },
  {
   "cell_type": "code",
   "execution_count": 57,
   "metadata": {
    "ExecuteTime": {
     "end_time": "2021-07-31T08:10:00.996990Z",
     "start_time": "2021-07-31T08:10:00.980992Z"
    }
   },
   "outputs": [
    {
     "name": "stdout",
     "output_type": "stream",
     "text": [
      "[[0.54835933 0.0616952  0.0993219 ]\n",
      " [0.8626579  0.26225547 0.04316864]\n",
      " [0.84699857 0.0921451  0.74802806]]\n"
     ]
    }
   ],
   "source": [
    "nr = np.random.random((3, 3)) # 2 dimensional array of 3 rows and 3 columns with random numbers \n",
    "# Elements in array are randomly generated using the random function.\n",
    "print(nr)      "
   ]
  },
  {
   "cell_type": "code",
   "execution_count": null,
   "metadata": {},
   "outputs": [],
   "source": []
  },
  {
   "cell_type": "code",
   "execution_count": null,
   "metadata": {},
   "outputs": [],
   "source": []
  },
  {
   "cell_type": "markdown",
   "metadata": {},
   "source": [
    "## Array Functions"
   ]
  },
  {
   "cell_type": "markdown",
   "metadata": {},
   "source": [
    "### `np.ones()`\n",
    "\n",
    "Returns a new array of given shape and data type, where all the elements are set to 1.\n",
    "\n",
    "`ones(shape, dtype=None, order='C')`\n",
    "\n",
    "The shape is an int or tuple of ints to define the size of the array. If we just specify an int variable, a one-dimensional array will be returned. For a tuple of ints, the array of given shape will be returned.<br>\n",
    "The dtype is an optional parameter with default value as a float. It’s used to specify the data type of the array, for example, int. <br>\n",
    "The order defines the whether to store multi-dimensional array in row-major (C-style) or column-major (Fortran-style) order in memory."
   ]
  },
  {
   "cell_type": "code",
   "execution_count": 62,
   "metadata": {},
   "outputs": [
    {
     "name": "stdout",
     "output_type": "stream",
     "text": [
      "Help on function ones in module numpy:\n",
      "\n",
      "ones(shape, dtype=None, order='C')\n",
      "    Return a new array of given shape and type, filled with ones.\n",
      "    \n",
      "    Parameters\n",
      "    ----------\n",
      "    shape : int or sequence of ints\n",
      "        Shape of the new array, e.g., ``(2, 3)`` or ``2``.\n",
      "    dtype : data-type, optional\n",
      "        The desired data-type for the array, e.g., `numpy.int8`.  Default is\n",
      "        `numpy.float64`.\n",
      "    order : {'C', 'F'}, optional, default: C\n",
      "        Whether to store multi-dimensional data in row-major\n",
      "        (C-style) or column-major (Fortran-style) order in\n",
      "        memory.\n",
      "    \n",
      "    Returns\n",
      "    -------\n",
      "    out : ndarray\n",
      "        Array of ones with the given shape, dtype, and order.\n",
      "    \n",
      "    See Also\n",
      "    --------\n",
      "    ones_like : Return an array of ones with shape and type of input.\n",
      "    empty : Return a new uninitialized array.\n",
      "    zeros : Return a new array setting values to zero.\n",
      "    full : Return a new array of given shape filled with value.\n",
      "    \n",
      "    \n",
      "    Examples\n",
      "    --------\n",
      "    >>> np.ones(5)\n",
      "    array([1., 1., 1., 1., 1.])\n",
      "    \n",
      "    >>> np.ones((5,), dtype=int)\n",
      "    array([1, 1, 1, 1, 1])\n",
      "    \n",
      "    >>> np.ones((2, 1))\n",
      "    array([[1.],\n",
      "           [1.]])\n",
      "    \n",
      "    >>> s = (2,2)\n",
      "    >>> np.ones(s)\n",
      "    array([[1.,  1.],\n",
      "           [1.,  1.]])\n",
      "\n"
     ]
    }
   ],
   "source": [
    "help(np.ones)"
   ]
  },
  {
   "cell_type": "code",
   "execution_count": 63,
   "metadata": {},
   "outputs": [
    {
     "name": "stdout",
     "output_type": "stream",
     "text": [
      "[[1. 1.]\n",
      " [1. 1.]\n",
      " [1. 1.]]\n"
     ]
    }
   ],
   "source": [
    "c = np.ones((3, 2))\n",
    "print(c)"
   ]
  },
  {
   "cell_type": "markdown",
   "metadata": {},
   "source": [
    "### `np.zeros()`\n",
    "\n",
    "It is identical to `np.ones()`, except that all the elements are initialized to zero."
   ]
  },
  {
   "cell_type": "code",
   "execution_count": 64,
   "metadata": {},
   "outputs": [
    {
     "name": "stdout",
     "output_type": "stream",
     "text": [
      "Help on built-in function zeros in module numpy:\n",
      "\n",
      "zeros(...)\n",
      "    zeros(shape, dtype=float, order='C')\n",
      "    \n",
      "    Return a new array of given shape and type, filled with zeros.\n",
      "    \n",
      "    Parameters\n",
      "    ----------\n",
      "    shape : int or tuple of ints\n",
      "        Shape of the new array, e.g., ``(2, 3)`` or ``2``.\n",
      "    dtype : data-type, optional\n",
      "        The desired data-type for the array, e.g., `numpy.int8`.  Default is\n",
      "        `numpy.float64`.\n",
      "    order : {'C', 'F'}, optional, default: 'C'\n",
      "        Whether to store multi-dimensional data in row-major\n",
      "        (C-style) or column-major (Fortran-style) order in\n",
      "        memory.\n",
      "    \n",
      "    Returns\n",
      "    -------\n",
      "    out : ndarray\n",
      "        Array of zeros with the given shape, dtype, and order.\n",
      "    \n",
      "    See Also\n",
      "    --------\n",
      "    zeros_like : Return an array of zeros with shape and type of input.\n",
      "    empty : Return a new uninitialized array.\n",
      "    ones : Return a new array setting values to one.\n",
      "    full : Return a new array of given shape filled with value.\n",
      "    \n",
      "    Examples\n",
      "    --------\n",
      "    >>> np.zeros(5)\n",
      "    array([ 0.,  0.,  0.,  0.,  0.])\n",
      "    \n",
      "    >>> np.zeros((5,), dtype=int)\n",
      "    array([0, 0, 0, 0, 0])\n",
      "    \n",
      "    >>> np.zeros((2, 1))\n",
      "    array([[ 0.],\n",
      "           [ 0.]])\n",
      "    \n",
      "    >>> s = (2,2)\n",
      "    >>> np.zeros(s)\n",
      "    array([[ 0.,  0.],\n",
      "           [ 0.,  0.]])\n",
      "    \n",
      "    >>> np.zeros((2,), dtype=[('x', 'i4'), ('y', 'i4')]) # custom dtype\n",
      "    array([(0, 0), (0, 0)],\n",
      "          dtype=[('x', '<i4'), ('y', '<i4')])\n",
      "\n"
     ]
    }
   ],
   "source": [
    "import numpy as np\n",
    "help(np.zeros)"
   ]
  },
  {
   "cell_type": "code",
   "execution_count": 65,
   "metadata": {},
   "outputs": [
    {
     "name": "stdout",
     "output_type": "stream",
     "text": [
      "[[0. 0. 0.]\n",
      " [0. 0. 0.]]\n"
     ]
    }
   ],
   "source": [
    "d = np.zeros((2, 3))\n",
    "print(d)"
   ]
  },
  {
   "cell_type": "markdown",
   "metadata": {},
   "source": [
    "### `np.eye()`\n",
    "\n",
    "Returns an array where all the elements are equal to zero, except diagonal elements that are initialized to 1."
   ]
  },
  {
   "cell_type": "code",
   "execution_count": null,
   "metadata": {},
   "outputs": [],
   "source": [
    "import numpy as np\n",
    "help(np.eye)"
   ]
  },
  {
   "cell_type": "code",
   "execution_count": 66,
   "metadata": {},
   "outputs": [
    {
     "name": "stdout",
     "output_type": "stream",
     "text": [
      "[[1. 0. 0.]\n",
      " [0. 1. 0.]\n",
      " [0. 0. 1.]]\n"
     ]
    }
   ],
   "source": [
    "e = np.eye((3))  # This creates the popularly known Identity Matrix!\n",
    "print(e)"
   ]
  },
  {
   "cell_type": "code",
   "execution_count": 43,
   "metadata": {},
   "outputs": [
    {
     "name": "stdout",
     "output_type": "stream",
     "text": [
      "[[1. 0. 0. 0. 0.]\n",
      " [0. 1. 0. 0. 0.]\n",
      " [0. 0. 1. 0. 0.]\n",
      " [0. 0. 0. 1. 0.]\n",
      " [0. 0. 0. 0. 1.]]\n",
      "\n",
      "[[1. 0. 0.]\n",
      " [0. 1. 0.]]\n",
      "\n",
      "[[1. 0. 0.]\n",
      " [0. 1. 0.]\n",
      " [0. 0. 1.]]\n",
      "\n",
      "[[0. 0. 0. 0.]\n",
      " [0. 0. 0. 0.]\n",
      " [0. 0. 0. 0.]\n",
      " [1. 0. 0. 0.]]\n",
      "\n",
      "[[0. 0. 1. 0. 0.]\n",
      " [0. 0. 0. 1. 0.]\n",
      " [0. 0. 0. 0. 1.]\n",
      " [0. 0. 0. 0. 0.]\n",
      " [0. 0. 0. 0. 0.]]\n",
      "\n",
      "[[1. 0. 0.]\n",
      " [0. 1. 0.]]\n",
      "\n",
      "[[1 0 0 0 0]\n",
      " [0 1 0 0 0]\n",
      " [0 0 1 0 0]\n",
      " [0 0 0 1 0]\n",
      " [0 0 0 0 1]]\n"
     ]
    }
   ],
   "source": [
    "# Different dimensions of arrays created with np.eye\n",
    "print(np.eye(5))\n",
    "print()\n",
    "print(np.eye(2,3))\n",
    "print()\n",
    "print(np.eye(3,3))\n",
    "print()\n",
    "print(np.eye(4, k=-3))# k is the dimension\n",
    "print()\n",
    "print(np.eye(5, k=2))\n",
    "print()\n",
    "print(np.eye(2, 3))\n",
    "print()\n",
    "print(np.eye(5, dtype=int))"
   ]
  },
  {
   "cell_type": "markdown",
   "metadata": {},
   "source": [
    "### `full()`\n",
    "Returns a new array with the same shape and type as a given, filled with the fill_value.\n",
    "    \n",
    "Syntax:\n",
    "\n",
    "`full(shape, fill_value, dtype = None, order = 'C')`"
   ]
  },
  {
   "cell_type": "code",
   "execution_count": null,
   "metadata": {},
   "outputs": [],
   "source": [
    "help(np.full)"
   ]
  },
  {
   "cell_type": "code",
   "execution_count": 44,
   "metadata": {
    "scrolled": true
   },
   "outputs": [
    {
     "name": "stdout",
     "output_type": "stream",
     "text": [
      "[[7 7 7 7]\n",
      " [7 7 7 7]\n",
      " [7 7 7 7]\n",
      " [7 7 7 7]\n",
      " [7 7 7 7]]\n"
     ]
    }
   ],
   "source": [
    "e = np.full((5, 4), 7) # Matrix of constant numbers\n",
    "print(e)"
   ]
  },
  {
   "cell_type": "markdown",
   "metadata": {},
   "source": [
    "### `np.linspace()`\n",
    "\n",
    "Returns number spaces evenly w.r.t the given interval start and stop. This functions is similar to arange but instead of step size it uses a sample number.\n",
    "\n",
    "Syntax:\n",
    "\n",
    "`numpy.linspace(start, stop, num = 50, endpoint = True, retstep = False, dtype = None)"
   ]
  },
  {
   "cell_type": "code",
   "execution_count": null,
   "metadata": {},
   "outputs": [],
   "source": [
    "import numpy as np \n",
    "help(np.linspace)"
   ]
  },
  {
   "cell_type": "code",
   "execution_count": null,
   "metadata": {},
   "outputs": [],
   "source": [
    "f = np.linspace(1, 10, 4) # Generate 4 equally spaced values between 1 and 10\n",
    "print(f)"
   ]
  },
  {
   "cell_type": "code",
   "execution_count": null,
   "metadata": {},
   "outputs": [],
   "source": [
    "# Sample other variations of linspace\n",
    "print(np.linspace(1, 2, retstep=True))\n",
    "print()\n",
    "print(np.linspace(1, 100, num=5, retstep=True))\n",
    "print()\n",
    "a = np.linspace(1, 100, num=5, endpoint=False, retstep=True)\n",
    "print(a)\n",
    "print(a[0][0])\n",
    "np.linspace(1, 100, num=5, retstep=True)\n",
    "np.linspace(1, 100, num=5, dtype=int)"
   ]
  },
  {
   "cell_type": "code",
   "execution_count": 61,
   "metadata": {},
   "outputs": [
    {
     "name": "stdout",
     "output_type": "stream",
     "text": [
      "[ 1. nan  3.]\n"
     ]
    }
   ],
   "source": [
    "a =[1, np.NaN, 3]\n",
    "print(np.array(a))"
   ]
  },
  {
   "cell_type": "markdown",
   "metadata": {},
   "source": [
    "## Some interesting numpy functions\n",
    "\n",
    "### Math functions\n",
    "numpy has a fairly big set of functions to for mathematical operations"
   ]
  },
  {
   "cell_type": "code",
   "execution_count": 78,
   "metadata": {
    "ExecuteTime": {
     "end_time": "2021-07-31T08:12:49.745710Z",
     "start_time": "2021-07-31T08:12:49.725768Z"
    }
   },
   "outputs": [
    {
     "name": "stdout",
     "output_type": "stream",
     "text": [
      "[10  8  9]\n",
      "Mean:  9.0\n",
      "Standard deviation:  0.816496580927726\n",
      "Max:  10\n",
      "Min:  8\n",
      "Index Max:  0\n",
      "Ix Min:  1\n"
     ]
    }
   ],
   "source": [
    "# standard math functions, like mean, standard deviations, max, min, etc. \n",
    "# are all available\n",
    "a = np.array([10, 8, 9])\n",
    "\n",
    "print(a)\n",
    "\n",
    "print('Mean: ', np.mean(a))\n",
    "print('Standard deviation: ', np.std(a))\n",
    "print('Max: ', np.max(a))\n",
    "print('Min: ', np.min(a))\n",
    "print('Index Max: ', np.argmax(a))\n",
    "print('Ix Min: ', np.argmin(a))\n"
   ]
  },
  {
   "cell_type": "code",
   "execution_count": 77,
   "metadata": {},
   "outputs": [
    {
     "name": "stdout",
     "output_type": "stream",
     "text": [
      "[0]\n",
      "[0]\n",
      "[0, 2]\n"
     ]
    }
   ],
   "source": [
    "a =[1,2,1]\n",
    "var = 1\n",
    "b=[]\n",
    "count=0\n",
    "for i in a:\n",
    "    if(i==var):\n",
    "        b.append(count)\n",
    "    count=count + 1\n",
    "    print(b)       \n"
   ]
  },
  {
   "cell_type": "markdown",
   "metadata": {},
   "source": [
    "### Inserting and deleting elements\n",
    "\n",
    "numpy are blocks of memory with a different layout than the list. For this reason it's not possible to append and element like a list, thoug similar functions are provided"
   ]
  },
  {
   "cell_type": "code",
   "execution_count": 107,
   "metadata": {},
   "outputs": [
    {
     "name": "stdout",
     "output_type": "stream",
     "text": [
      "[1 2 3 3]\n",
      "[ 1  2 12  3]\n",
      "[1 3]\n"
     ]
    }
   ],
   "source": [
    "a = np.array([1, 2, 3])\n",
    "\n",
    "b = np.append(a, 3); print(b) # insert the number 3 at the end\n",
    "c = np.insert(a, 2, 12); print(c)  # insert the value 12 at index 2\n",
    "d = np.delete(a, 1); print(d) # delete the value at index 1"
   ]
  },
  {
   "cell_type": "code",
   "execution_count": null,
   "metadata": {},
   "outputs": [],
   "source": []
  },
  {
   "cell_type": "code",
   "execution_count": 91,
   "metadata": {
    "ExecuteTime": {
     "end_time": "2021-07-31T06:13:04.126261Z",
     "start_time": "2021-07-31T06:13:04.106314Z"
    }
   },
   "outputs": [
    {
     "name": "stdout",
     "output_type": "stream",
     "text": [
      "[[1 0 3]\n",
      " [3 4 5]]\n",
      "[[1.         0.         1.73205081]\n",
      " [1.73205081 2.         2.23606798]]\n",
      "\n",
      "1.699673171197595\n",
      "\n",
      "[[0.               -inf 1.09861229]\n",
      " [1.09861229 1.38629436 1.60943791]]\n",
      "\n",
      "[[1.   0.   1.73]\n",
      " [1.73 2.   2.24]]\n",
      "[[1.   0.   1.73]\n",
      " [1.73 2.   2.24]]\n"
     ]
    },
    {
     "name": "stderr",
     "output_type": "stream",
     "text": [
      "C:\\Users\\DILJYOT\\anaconda3\\lib\\site-packages\\ipykernel_launcher.py:12: RuntimeWarning: divide by zero encountered in log\n",
      "  if sys.path[0] == '':\n"
     ]
    }
   ],
   "source": [
    "#math functions\n",
    "\n",
    "a=np.array([(1,0,3),(3,4,5)])\n",
    "print(a)\n",
    "\n",
    "print(np.sqrt(a))\n",
    "print()\n",
    "\n",
    "print(np.std(a))\n",
    "print()\n",
    "\n",
    "print(np.log(a))\n",
    "print()\n",
    "\n",
    "b=np.sqrt(a)\n",
    "print(b.round(2))\n",
    "\n",
    "print(np.sqrt(a).round(2))"
   ]
  },
  {
   "cell_type": "code",
   "execution_count": null,
   "metadata": {
    "ExecuteTime": {
     "end_time": "2021-07-31T06:21:19.800141Z",
     "start_time": "2021-07-31T06:21:19.770221Z"
    }
   },
   "outputs": [],
   "source": [
    "?np.sqrt"
   ]
  },
  {
   "cell_type": "code",
   "execution_count": 45,
   "metadata": {
    "ExecuteTime": {
     "end_time": "2021-07-31T08:13:52.287399Z",
     "start_time": "2021-07-31T08:13:52.281415Z"
    }
   },
   "outputs": [
    {
     "name": "stdout",
     "output_type": "stream",
     "text": [
      "[[1 2]\n",
      " [3 4]]\n",
      "[[5 6]\n",
      " [3 4]]\n"
     ]
    }
   ],
   "source": [
    "x= np.array([(1,2),(3,4)])\n",
    "y= np.array([(5,6),(3,4)])\n",
    "print(x)\n",
    "print(y)"
   ]
  },
  {
   "cell_type": "code",
   "execution_count": 46,
   "metadata": {
    "ExecuteTime": {
     "end_time": "2021-07-31T08:13:57.374103Z",
     "start_time": "2021-07-31T08:13:57.361138Z"
    }
   },
   "outputs": [
    {
     "name": "stdout",
     "output_type": "stream",
     "text": [
      "[[6 8]\n",
      " [6 8]]\n",
      "[[-4 -4]\n",
      " [ 0  0]]\n",
      "[[ 5 12]\n",
      " [ 9 16]]\n",
      "[[0.2        0.33333333]\n",
      " [1.         1.        ]]\n",
      "[[1 2]\n",
      " [0 0]]\n",
      "[[11 14]\n",
      " [27 34]]\n"
     ]
    }
   ],
   "source": [
    "print(x+y)\n",
    "print(x-y)\n",
    "print(x*y)# element to element multiplication\n",
    "print(x/y)\n",
    "print(x%y)\n",
    "print(x@y)# Matrix Multiplication\n",
    "#print(np.dot(x,y))\n",
    "#print(np.add(x,y))\n",
    "\n",
    "#np.add(), np.subtract(), np.multiply(), np.divide(), np.remainder()"
   ]
  },
  {
   "cell_type": "code",
   "execution_count": null,
   "metadata": {},
   "outputs": [],
   "source": []
  },
  {
   "cell_type": "code",
   "execution_count": 85,
   "metadata": {
    "ExecuteTime": {
     "end_time": "2021-07-31T06:21:31.923330Z",
     "start_time": "2021-07-31T06:21:31.914269Z"
    }
   },
   "outputs": [
    {
     "name": "stdout",
     "output_type": "stream",
     "text": [
      "[[1 7 3]\n",
      " [3 4 5]]\n"
     ]
    }
   ],
   "source": [
    "#arrays are mutable\n",
    "x= np.array([(1,2,3),(3,4,5)])\n",
    "x[0,1]=7\n",
    "print(x)"
   ]
  },
  {
   "cell_type": "code",
   "execution_count": 86,
   "metadata": {
    "ExecuteTime": {
     "end_time": "2021-07-31T06:22:10.710932Z",
     "start_time": "2021-07-31T06:22:10.693995Z"
    }
   },
   "outputs": [
    {
     "name": "stdout",
     "output_type": "stream",
     "text": [
      "[[1 7 3]\n",
      " [3 4 5]]\n",
      "[1 7 3 3 4 5]\n"
     ]
    }
   ],
   "source": [
    "# ravel() functions returns contiguous flattened array\n",
    "# (1D array with all the input-array elements and with the same type as it)\n",
    "\n",
    "print(x)\n",
    "\n",
    "y=x.ravel()\n",
    "print(y)"
   ]
  },
  {
   "cell_type": "code",
   "execution_count": 87,
   "metadata": {
    "ExecuteTime": {
     "end_time": "2021-07-31T06:22:22.163678Z",
     "start_time": "2021-07-31T06:22:22.158692Z"
    }
   },
   "outputs": [
    {
     "data": {
      "text/plain": [
       "array([[1, 7, 3],\n",
       "       [3, 4, 5]])"
      ]
     },
     "execution_count": 87,
     "metadata": {},
     "output_type": "execute_result"
    }
   ],
   "source": [
    "y.reshape((2,3))"
   ]
  },
  {
   "cell_type": "code",
   "execution_count": 88,
   "metadata": {
    "ExecuteTime": {
     "end_time": "2021-07-31T06:22:23.890164Z",
     "start_time": "2021-07-31T06:22:23.882223Z"
    }
   },
   "outputs": [
    {
     "data": {
      "text/plain": [
       "1"
      ]
     },
     "execution_count": 88,
     "metadata": {},
     "output_type": "execute_result"
    }
   ],
   "source": [
    "z=np.array([1,2,3,4,5,6,7,8])\n",
    "z.ndim"
   ]
  },
  {
   "cell_type": "code",
   "execution_count": 89,
   "metadata": {
    "ExecuteTime": {
     "end_time": "2021-07-31T06:22:27.012994Z",
     "start_time": "2021-07-31T06:22:27.003021Z"
    }
   },
   "outputs": [
    {
     "data": {
      "text/plain": [
       "array([[1, 2, 3, 4],\n",
       "       [5, 6, 7, 8]])"
      ]
     },
     "execution_count": 89,
     "metadata": {},
     "output_type": "execute_result"
    }
   ],
   "source": [
    "z.reshape((2,4))"
   ]
  },
  {
   "cell_type": "code",
   "execution_count": 90,
   "metadata": {},
   "outputs": [
    {
     "name": "stdout",
     "output_type": "stream",
     "text": [
      "[[1, 2, 3], [4, 5, 6]]\n"
     ]
    }
   ],
   "source": [
    "list = [[1,2,3],[4,5,6]]\n",
    "print(list)"
   ]
  },
  {
   "cell_type": "code",
   "execution_count": 93,
   "metadata": {},
   "outputs": [
    {
     "data": {
      "text/plain": [
       "array({'a': 1, 'b': 2, 'c': 3}, dtype=object)"
      ]
     },
     "execution_count": 93,
     "metadata": {},
     "output_type": "execute_result"
    }
   ],
   "source": [
    "a={\"a\":1,\"b\":2,\"c\":3}\n",
    "b=np.array(a)\n",
    "b"
   ]
  },
  {
   "cell_type": "code",
   "execution_count": 96,
   "metadata": {},
   "outputs": [
    {
     "ename": "IndexError",
     "evalue": "too many indices for array: array is 0-dimensional, but 1 were indexed",
     "output_type": "error",
     "traceback": [
      "\u001b[1;31m---------------------------------------------------------------------------\u001b[0m",
      "\u001b[1;31mIndexError\u001b[0m                                Traceback (most recent call last)",
      "\u001b[1;32m<ipython-input-96-54af0eb47770>\u001b[0m in \u001b[0;36m<module>\u001b[1;34m\u001b[0m\n\u001b[1;32m----> 1\u001b[1;33m \u001b[0mb\u001b[0m\u001b[1;33m[\u001b[0m\u001b[1;36m0\u001b[0m\u001b[1;33m]\u001b[0m\u001b[1;33m\u001b[0m\u001b[1;33m\u001b[0m\u001b[0m\n\u001b[0m",
      "\u001b[1;31mIndexError\u001b[0m: too many indices for array: array is 0-dimensional, but 1 were indexed"
     ]
    }
   ],
   "source": [
    "b[0]"
   ]
  },
  {
   "cell_type": "code",
   "execution_count": 98,
   "metadata": {},
   "outputs": [
    {
     "data": {
      "text/plain": [
       "0"
      ]
     },
     "execution_count": 98,
     "metadata": {},
     "output_type": "execute_result"
    }
   ],
   "source": [
    "b.ndim"
   ]
  },
  {
   "cell_type": "code",
   "execution_count": null,
   "metadata": {},
   "outputs": [],
   "source": []
  }
 ],
 "metadata": {
  "kernelspec": {
   "display_name": "Python 3",
   "language": "python",
   "name": "python3"
  },
  "language_info": {
   "codemirror_mode": {
    "name": "ipython",
    "version": 3
   },
   "file_extension": ".py",
   "mimetype": "text/x-python",
   "name": "python",
   "nbconvert_exporter": "python",
   "pygments_lexer": "ipython3",
   "version": "3.7.6"
  },
  "latex_envs": {
   "LaTeX_envs_menu_present": true,
   "autoclose": false,
   "autocomplete": true,
   "bibliofile": "biblio.bib",
   "cite_by": "apalike",
   "current_citInitial": 1,
   "eqLabelWithNumbers": true,
   "eqNumInitial": 1,
   "hotkeys": {
    "equation": "Ctrl-E",
    "itemize": "Ctrl-I"
   },
   "labels_anchors": false,
   "latex_user_defs": false,
   "report_style_numbering": false,
   "user_envs_cfg": false
  },
  "toc": {
   "base_numbering": 1,
   "nav_menu": {},
   "number_sections": false,
   "sideBar": true,
   "skip_h1_title": false,
   "title_cell": "Table of Contents",
   "title_sidebar": "Contents",
   "toc_cell": false,
   "toc_position": {},
   "toc_section_display": true,
   "toc_window_display": false
  }
 },
 "nbformat": 4,
 "nbformat_minor": 4
}
